{
 "cells": [
  {
   "cell_type": "code",
   "execution_count": 32,
   "metadata": {
    "collapsed": true,
    "focus": false,
    "id": "0efd30ae-c672-4d7a-9000-b442cad2e3fe"
   },
   "outputs": [],
   "source": [
    "import pandas as pd\n",
    "import numpy as np"
   ]
  },
  {
   "cell_type": "code",
   "execution_count": 2,
   "metadata": {
    "collapsed": true,
    "focus": false,
    "id": "5fdd13db-ccb0-4795-a273-b4d2977d2bcc"
   },
   "outputs": [],
   "source": [
    "train_data = pd.read_csv('train.csv')"
   ]
  },
  {
   "cell_type": "code",
   "execution_count": 7,
   "metadata": {
    "collapsed": false,
    "focus": true,
    "id": "c89f2417-29c2-434d-a69f-37a874eccbb0"
   },
   "outputs": [
    {
     "data": {
      "text/plain": [
       "PassengerId    False\n",
       "Survived       False\n",
       "Pclass         False\n",
       "Name           False\n",
       "Sex            False\n",
       "Age             True\n",
       "SibSp          False\n",
       "Parch          False\n",
       "Ticket         False\n",
       "Fare           False\n",
       "Cabin           True\n",
       "Embarked        True\n",
       "dtype: bool"
      ]
     },
     "execution_count": 7,
     "metadata": {},
     "output_type": "execute_result"
    }
   ],
   "source": [
    "#Checking which columns have NaN data\n",
    "pd.isnull(train_data).sum() > 0"
   ]
  },
  {
   "cell_type": "raw",
   "metadata": {},
   "source": [
    "Now it's known that for some passengers Age, Cabin, and Embarked are missing.\n"
   ]
  },
  {
   "cell_type": "code",
   "execution_count": 38,
   "metadata": {
    "collapsed": false
   },
   "outputs": [
    {
     "data": {
      "text/plain": [
       "0.3838383838383838"
      ]
     },
     "execution_count": 38,
     "metadata": {},
     "output_type": "execute_result"
    }
   ],
   "source": [
    "#what percent of people survived\n",
    "np.count_nonzero(train_data.Survived)/ float(len(train_data))"
   ]
  },
  {
   "cell_type": "raw",
   "metadata": {},
   "source": [
    "According to most estimates 31.6% of people survived, so this data set contains more survivors"
   ]
  },
  {
   "cell_type": "code",
   "execution_count": 39,
   "metadata": {
    "collapsed": false,
    "focus": false,
    "id": "a790513e-5676-4d0a-9e83-822dec8cf361"
   },
   "outputs": [
    {
     "name": "stdout",
     "output_type": "stream",
     "text": [
      "Percent of those who survived that were male is  0.318713450292\n",
      "Percent of those who survived that were female is  0.681286549708\n"
     ]
    }
   ],
   "source": [
    "#Going to check what percent of survivors were male/female\n",
    "male_surv = 0.0\n",
    "\n",
    "for index, passenger in train_data.iterrows():\n",
    "    if passenger.Sex == \"male\" and passenger.Survived == True:\n",
    "        male_surv += 1\n",
    "\n",
    "male_surv_perc = male_surv/(male_surv + female_surv)\n",
    "print \"Percent of those who survived that were male is \", male_surv_perc\n",
    "print \"Percent of those who survived that were female is \", 1 - male_surv_perc"
   ]
  },
  {
   "cell_type": "code",
   "execution_count": null,
   "metadata": {
    "collapsed": true
   },
   "outputs": [],
   "source": []
  }
 ],
 "metadata": {
  "anaconda-cloud": {},
  "kernelspec": {
   "display_name": "Python [conda root]",
   "language": "python",
   "name": "conda-root-py"
  },
  "language_info": {
   "codemirror_mode": {
    "name": "ipython",
    "version": 2
   },
   "file_extension": ".py",
   "mimetype": "text/x-python",
   "name": "python",
   "nbconvert_exporter": "python",
   "pygments_lexer": "ipython2",
   "version": "2.7.12"
  }
 },
 "nbformat": 4,
 "nbformat_minor": 1
}
